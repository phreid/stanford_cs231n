{
 "cells": [
  {
   "cell_type": "markdown",
   "metadata": {},
   "source": [
    "# Softmax exercise\n",
    "\n",
    "*Complete and hand in this completed worksheet (including its outputs and any supporting code outside of the worksheet) with your assignment submission. For more details see the [assignments page](http://vision.stanford.edu/teaching/cs231n/assignments.html) on the course website.*\n",
    "\n",
    "This exercise is analogous to the SVM exercise. You will:\n",
    "\n",
    "- implement a fully-vectorized **loss function** for the Softmax classifier\n",
    "- implement the fully-vectorized expression for its **analytic gradient**\n",
    "- **check your implementation** with numerical gradient\n",
    "- use a validation set to **tune the learning rate and regularization** strength\n",
    "- **optimize** the loss function with **SGD**\n",
    "- **visualize** the final learned weights\n"
   ]
  },
  {
   "cell_type": "code",
   "execution_count": 51,
   "metadata": {},
   "outputs": [
    {
     "name": "stdout",
     "output_type": "stream",
     "text": [
      "The autoreload extension is already loaded. To reload it, use:\n",
      "  %reload_ext autoreload\n"
     ]
    }
   ],
   "source": [
    "import random\n",
    "import numpy as np\n",
    "from cs231n.data_utils import load_CIFAR10\n",
    "import matplotlib.pyplot as plt\n",
    "\n",
    "%matplotlib inline\n",
    "plt.rcParams['figure.figsize'] = (10.0, 8.0) # set default size of plots\n",
    "plt.rcParams['image.interpolation'] = 'nearest'\n",
    "plt.rcParams['image.cmap'] = 'gray'\n",
    "\n",
    "# for auto-reloading extenrnal modules\n",
    "# see http://stackoverflow.com/questions/1907993/autoreload-of-modules-in-ipython\n",
    "%load_ext autoreload\n",
    "%autoreload 2"
   ]
  },
  {
   "cell_type": "code",
   "execution_count": 52,
   "metadata": {},
   "outputs": [
    {
     "name": "stdout",
     "output_type": "stream",
     "text": [
      "Clear previously loaded data.\n",
      "Train data shape:  (49000, 3073)\n",
      "Train labels shape:  (49000,)\n",
      "Validation data shape:  (1000, 3073)\n",
      "Validation labels shape:  (1000,)\n",
      "Test data shape:  (1000, 3073)\n",
      "Test labels shape:  (1000,)\n",
      "dev data shape:  (500, 3073)\n",
      "dev labels shape:  (500,)\n"
     ]
    }
   ],
   "source": [
    "def get_CIFAR10_data(num_training=49000, num_validation=1000, num_test=1000, num_dev=500):\n",
    "    \"\"\"\n",
    "    Load the CIFAR-10 dataset from disk and perform preprocessing to prepare\n",
    "    it for the linear classifier. These are the same steps as we used for the\n",
    "    SVM, but condensed to a single function.  \n",
    "    \"\"\"\n",
    "    # Load the raw CIFAR-10 data\n",
    "    cifar10_dir = 'cs231n/datasets/cifar-10-batches-py'\n",
    "    \n",
    "    X_train, y_train, X_test, y_test = load_CIFAR10(cifar10_dir)\n",
    "    \n",
    "    # subsample the data\n",
    "    mask = list(range(num_training, num_training + num_validation))\n",
    "    X_val = X_train[mask]\n",
    "    y_val = y_train[mask]\n",
    "    mask = list(range(num_training))\n",
    "    X_train = X_train[mask]\n",
    "    y_train = y_train[mask]\n",
    "    mask = list(range(num_test))\n",
    "    X_test = X_test[mask]\n",
    "    y_test = y_test[mask]\n",
    "    mask = np.random.choice(num_training, num_dev, replace=False)\n",
    "    X_dev = X_train[mask]\n",
    "    y_dev = y_train[mask]\n",
    "    \n",
    "    # Preprocessing: reshape the image data into rows\n",
    "    X_train = np.reshape(X_train, (X_train.shape[0], -1))\n",
    "    X_val = np.reshape(X_val, (X_val.shape[0], -1))\n",
    "    X_test = np.reshape(X_test, (X_test.shape[0], -1))\n",
    "    X_dev = np.reshape(X_dev, (X_dev.shape[0], -1))\n",
    "    \n",
    "    # Normalize the data: subtract the mean image\n",
    "    mean_image = np.mean(X_train, axis = 0)\n",
    "    X_train -= mean_image\n",
    "    X_val -= mean_image\n",
    "    X_test -= mean_image\n",
    "    X_dev -= mean_image\n",
    "    \n",
    "    # add bias dimension and transform into columns\n",
    "    X_train = np.hstack([X_train, np.ones((X_train.shape[0], 1))])\n",
    "    X_val = np.hstack([X_val, np.ones((X_val.shape[0], 1))])\n",
    "    X_test = np.hstack([X_test, np.ones((X_test.shape[0], 1))])\n",
    "    X_dev = np.hstack([X_dev, np.ones((X_dev.shape[0], 1))])\n",
    "    \n",
    "    return X_train, y_train, X_val, y_val, X_test, y_test, X_dev, y_dev\n",
    "\n",
    "\n",
    "# Cleaning up variables to prevent loading data multiple times (which may cause memory issue)\n",
    "try:\n",
    "   del X_train, y_train\n",
    "   del X_test, y_test\n",
    "   print('Clear previously loaded data.')\n",
    "except:\n",
    "   pass\n",
    "\n",
    "# Invoke the above function to get our data.\n",
    "X_train, y_train, X_val, y_val, X_test, y_test, X_dev, y_dev = get_CIFAR10_data()\n",
    "print('Train data shape: ', X_train.shape)\n",
    "print('Train labels shape: ', y_train.shape)\n",
    "print('Validation data shape: ', X_val.shape)\n",
    "print('Validation labels shape: ', y_val.shape)\n",
    "print('Test data shape: ', X_test.shape)\n",
    "print('Test labels shape: ', y_test.shape)\n",
    "print('dev data shape: ', X_dev.shape)\n",
    "print('dev labels shape: ', y_dev.shape)"
   ]
  },
  {
   "cell_type": "markdown",
   "metadata": {},
   "source": [
    "## Softmax Classifier\n",
    "\n",
    "Your code for this section will all be written inside **cs231n/classifiers/softmax.py**. \n"
   ]
  },
  {
   "cell_type": "code",
   "execution_count": 122,
   "metadata": {},
   "outputs": [],
   "source": [
    "Xtr = np.array([\n",
    "    [1, 2, 3],\n",
    "    [4, 5, 6]])\n",
    "ytr = np.array([1, 3])\n",
    "Wtr = np.random.randn(3, 4) * 0.1\n",
    "dWtr = np.zeros_like(Wtr)"
   ]
  },
  {
   "cell_type": "code",
   "execution_count": 182,
   "metadata": {},
   "outputs": [],
   "source": [
    "n_train = Xtr.shape[0]\n",
    "\n",
    "scores = Xtr @ Wtr\n",
    "scores -= np.max(scores, axis = 1)[:, np.newaxis]\n",
    "np.sum(np.exp(scores), axis = 1)\n",
    "p = np.exp(scores[np.arange(n_train), ytr]) / np.sum(np.exp(scores), axis = 1)\n",
    "p = np.exp(scores) / np.sum(np.exp(scores), axis = 1)[:, np.newaxis]\n",
    "p_sub = np.zeros_like(p)\n",
    "p_sub[np.arange(n_train), ytr] = 1\n",
    "\n",
    "dWtr += Xtr.T @ (p - p_sub)"
   ]
  },
  {
   "cell_type": "code",
   "execution_count": 105,
   "metadata": {},
   "outputs": [
    {
     "name": "stdout",
     "output_type": "stream",
     "text": [
      "loss: 2.362949\n",
      "sanity check: 2.302585\n"
     ]
    }
   ],
   "source": [
    "# First implement the naive softmax loss function with nested loops.\n",
    "# Open the file cs231n/classifiers/softmax.py and implement the\n",
    "# softmax_loss_naive function.\n",
    "\n",
    "from cs231n.classifiers.softmax import softmax_loss_naive\n",
    "import time\n",
    "\n",
    "# Generate a random softmax weight matrix and use it to compute the loss.\n",
    "W = np.random.randn(3073, 10) * 0.0001\n",
    "loss, grad = softmax_loss_naive(W, X_dev, y_dev, 0.0)\n",
    "\n",
    "# As a rough sanity check, our loss should be something close to -log(0.1).\n",
    "print('loss: %f' % loss)\n",
    "print('sanity check: %f' % (-np.log(0.1)))"
   ]
  },
  {
   "cell_type": "markdown",
   "metadata": {},
   "source": [
    "## Inline Question 1:\n",
    "Why do we expect our loss to be close to -log(0.1)? Explain briefly.**\n",
    "\n",
    "**Your answer:** *Fill this in*\n"
   ]
  },
  {
   "cell_type": "code",
   "execution_count": 126,
   "metadata": {},
   "outputs": [
    {
     "name": "stdout",
     "output_type": "stream",
     "text": [
      "numerical: 0.623730 analytic: 0.623730, relative error: 5.064482e-08\n",
      "numerical: 3.632230 analytic: 3.632230, relative error: 1.239862e-08\n",
      "numerical: 4.639944 analytic: 4.639943, relative error: 1.725552e-08\n",
      "numerical: 0.751348 analytic: 0.751348, relative error: 2.687840e-08\n",
      "numerical: -6.090149 analytic: -6.090149, relative error: 9.059528e-09\n",
      "numerical: 5.125275 analytic: 5.125275, relative error: 1.648873e-08\n",
      "numerical: -0.527378 analytic: -0.527378, relative error: 1.325719e-07\n",
      "numerical: -1.852196 analytic: -1.852196, relative error: 3.166236e-09\n",
      "numerical: -0.755214 analytic: -0.755214, relative error: 6.602256e-08\n",
      "numerical: 2.109171 analytic: 2.109171, relative error: 4.659404e-08\n",
      "numerical: 4.615030 analytic: 4.601737, relative error: 1.442242e-03\n",
      "numerical: 0.101079 analytic: 0.090831, relative error: 5.340020e-02\n",
      "numerical: 1.619152 analytic: 1.613698, relative error: 1.687100e-03\n",
      "numerical: -0.319712 analytic: -0.313173, relative error: 1.033128e-02\n",
      "numerical: 1.150662 analytic: 1.148492, relative error: 9.442400e-04\n",
      "numerical: -2.430582 analytic: -2.443537, relative error: 2.657904e-03\n",
      "numerical: 0.435978 analytic: 0.443095, relative error: 8.095906e-03\n",
      "numerical: -0.563258 analytic: -0.565179, relative error: 1.702465e-03\n",
      "numerical: 1.882832 analytic: 1.873489, relative error: 2.487356e-03\n",
      "numerical: -0.282089 analytic: -0.277441, relative error: 8.307488e-03\n"
     ]
    }
   ],
   "source": [
    "# Complete the implementation of softmax_loss_naive and implement a (naive)\n",
    "# version of the gradient that uses nested loops.\n",
    "loss, grad = softmax_loss_naive(W, X_dev, y_dev, 0.0)\n",
    "\n",
    "# As we did for the SVM, use numeric gradient checking as a debugging tool.\n",
    "# The numeric gradient should be close to the analytic gradient.\n",
    "from cs231n.gradient_check import grad_check_sparse\n",
    "f = lambda w: softmax_loss_naive(w, X_dev, y_dev, 0.0)[0]\n",
    "grad_numerical = grad_check_sparse(f, W, grad, 10)\n",
    "\n",
    "# similar to SVM case, do another gradient check with regularization\n",
    "loss, grad = softmax_loss_naive(W, X_dev, y_dev, 5e1)\n",
    "f = lambda w: softmax_loss_naive(w, X_dev, y_dev, 5e1)[0]\n",
    "grad_numerical = grad_check_sparse(f, W, grad, 10)"
   ]
  },
  {
   "cell_type": "code",
   "execution_count": 183,
   "metadata": {},
   "outputs": [
    {
     "name": "stdout",
     "output_type": "stream",
     "text": [
      "naive loss: 2.362949e+00 computed in 0.099857s\n",
      "vectorized loss: 2.362949e+00 computed in 0.000000s\n",
      "Loss difference: 0.000000\n",
      "Gradient difference: 0.000000\n"
     ]
    }
   ],
   "source": [
    "# Now that we have a naive implementation of the softmax loss function and its gradient,\n",
    "# implement a vectorized version in softmax_loss_vectorized.\n",
    "# The two versions should compute the same results, but the vectorized version should be\n",
    "# much faster.\n",
    "tic = time.time()\n",
    "loss_naive, grad_naive = softmax_loss_naive(W, X_dev, y_dev, 0.000005)\n",
    "toc = time.time()\n",
    "print('naive loss: %e computed in %fs' % (loss_naive, toc - tic))\n",
    "\n",
    "from cs231n.classifiers.softmax import softmax_loss_vectorized\n",
    "tic = time.time()\n",
    "loss_vectorized, grad_vectorized = softmax_loss_vectorized(W, X_dev, y_dev, 0.000005)\n",
    "toc = time.time()\n",
    "print('vectorized loss: %e computed in %fs' % (loss_vectorized, toc - tic))\n",
    "\n",
    "# As we did for the SVM, we use the Frobenius norm to compare the two versions\n",
    "# of the gradient.\n",
    "grad_difference = np.linalg.norm(grad_naive - grad_vectorized, ord='fro')\n",
    "print('Loss difference: %f' % np.abs(loss_naive - loss_vectorized))\n",
    "print('Gradient difference: %f' % grad_difference)"
   ]
  },
  {
   "cell_type": "code",
   "execution_count": 186,
   "metadata": {},
   "outputs": [
    {
     "name": "stdout",
     "output_type": "stream",
     "text": [
      "lr 1.000000e-07 reg 2.500000e+04 train accuracy: 0.149837 val accuracy: 0.141000\n",
      "lr 1.000000e-07 reg 2.777778e+04 train accuracy: 0.138735 val accuracy: 0.152000\n",
      "lr 1.000000e-07 reg 3.055556e+04 train accuracy: 0.157327 val accuracy: 0.169000\n",
      "lr 1.000000e-07 reg 3.333333e+04 train accuracy: 0.137286 val accuracy: 0.143000\n",
      "lr 1.000000e-07 reg 3.611111e+04 train accuracy: 0.140469 val accuracy: 0.130000\n",
      "lr 1.000000e-07 reg 3.888889e+04 train accuracy: 0.131612 val accuracy: 0.130000\n",
      "lr 1.000000e-07 reg 4.166667e+04 train accuracy: 0.148061 val accuracy: 0.147000\n",
      "lr 1.000000e-07 reg 4.444444e+04 train accuracy: 0.148531 val accuracy: 0.146000\n",
      "lr 1.000000e-07 reg 4.722222e+04 train accuracy: 0.147041 val accuracy: 0.119000\n",
      "lr 1.000000e-07 reg 5.000000e+04 train accuracy: 0.166327 val accuracy: 0.170000\n",
      "lr 5.644444e-06 reg 2.500000e+04 train accuracy: 0.265184 val accuracy: 0.276000\n",
      "lr 5.644444e-06 reg 2.777778e+04 train accuracy: 0.270796 val accuracy: 0.292000\n",
      "lr 5.644444e-06 reg 3.055556e+04 train accuracy: 0.268265 val accuracy: 0.270000\n",
      "lr 5.644444e-06 reg 3.333333e+04 train accuracy: 0.239857 val accuracy: 0.251000\n",
      "lr 5.644444e-06 reg 3.611111e+04 train accuracy: 0.242224 val accuracy: 0.253000\n",
      "lr 5.644444e-06 reg 3.888889e+04 train accuracy: 0.191020 val accuracy: 0.198000\n",
      "lr 5.644444e-06 reg 4.166667e+04 train accuracy: 0.214837 val accuracy: 0.211000\n",
      "lr 5.644444e-06 reg 4.444444e+04 train accuracy: 0.238939 val accuracy: 0.249000\n",
      "lr 5.644444e-06 reg 4.722222e+04 train accuracy: 0.227857 val accuracy: 0.228000\n",
      "lr 5.644444e-06 reg 5.000000e+04 train accuracy: 0.211082 val accuracy: 0.215000\n",
      "lr 1.118889e-05 reg 2.500000e+04 train accuracy: 0.152429 val accuracy: 0.150000\n",
      "lr 1.118889e-05 reg 2.777778e+04 train accuracy: 0.148939 val accuracy: 0.149000\n",
      "lr 1.118889e-05 reg 3.055556e+04 train accuracy: 0.227959 val accuracy: 0.245000\n",
      "lr 1.118889e-05 reg 3.333333e+04 train accuracy: 0.177184 val accuracy: 0.181000\n",
      "lr 1.118889e-05 reg 3.611111e+04 train accuracy: 0.163000 val accuracy: 0.160000\n",
      "lr 1.118889e-05 reg 3.888889e+04 train accuracy: 0.200816 val accuracy: 0.200000\n",
      "lr 1.118889e-05 reg 4.166667e+04 train accuracy: 0.161939 val accuracy: 0.164000\n",
      "lr 1.118889e-05 reg 4.444444e+04 train accuracy: 0.173061 val accuracy: 0.179000\n",
      "lr 1.118889e-05 reg 4.722222e+04 train accuracy: 0.172510 val accuracy: 0.177000\n",
      "lr 1.118889e-05 reg 5.000000e+04 train accuracy: 0.163776 val accuracy: 0.170000\n",
      "lr 1.673333e-05 reg 2.500000e+04 train accuracy: 0.192224 val accuracy: 0.190000\n",
      "lr 1.673333e-05 reg 2.777778e+04 train accuracy: 0.146286 val accuracy: 0.170000\n",
      "lr 1.673333e-05 reg 3.055556e+04 train accuracy: 0.190592 val accuracy: 0.204000\n",
      "lr 1.673333e-05 reg 3.333333e+04 train accuracy: 0.183837 val accuracy: 0.187000\n",
      "lr 1.673333e-05 reg 3.611111e+04 train accuracy: 0.175143 val accuracy: 0.193000\n",
      "lr 1.673333e-05 reg 3.888889e+04 train accuracy: 0.160571 val accuracy: 0.157000\n",
      "lr 1.673333e-05 reg 4.166667e+04 train accuracy: 0.120388 val accuracy: 0.128000\n",
      "lr 1.673333e-05 reg 4.444444e+04 train accuracy: 0.167184 val accuracy: 0.182000\n",
      "lr 1.673333e-05 reg 4.722222e+04 train accuracy: 0.120755 val accuracy: 0.126000\n",
      "lr 1.673333e-05 reg 5.000000e+04 train accuracy: 0.123776 val accuracy: 0.126000\n",
      "lr 2.227778e-05 reg 2.500000e+04 train accuracy: 0.146612 val accuracy: 0.158000\n",
      "lr 2.227778e-05 reg 2.777778e+04 train accuracy: 0.136449 val accuracy: 0.140000\n",
      "lr 2.227778e-05 reg 3.055556e+04 train accuracy: 0.167796 val accuracy: 0.158000\n",
      "lr 2.227778e-05 reg 3.333333e+04 train accuracy: 0.104551 val accuracy: 0.108000\n",
      "lr 2.227778e-05 reg 3.611111e+04 train accuracy: 0.123408 val accuracy: 0.125000\n",
      "lr 2.227778e-05 reg 3.888889e+04 train accuracy: 0.141102 val accuracy: 0.156000\n",
      "lr 2.227778e-05 reg 4.166667e+04 train accuracy: 0.143612 val accuracy: 0.139000\n",
      "lr 2.227778e-05 reg 4.444444e+04 train accuracy: 0.139061 val accuracy: 0.142000\n",
      "lr 2.227778e-05 reg 4.722222e+04 train accuracy: 0.112816 val accuracy: 0.117000\n",
      "lr 2.227778e-05 reg 5.000000e+04 train accuracy: 0.123000 val accuracy: 0.123000\n",
      "lr 2.782222e-05 reg 2.500000e+04 train accuracy: 0.167980 val accuracy: 0.189000\n",
      "lr 2.782222e-05 reg 2.777778e+04 train accuracy: 0.131837 val accuracy: 0.126000\n",
      "lr 2.782222e-05 reg 3.055556e+04 train accuracy: 0.122776 val accuracy: 0.114000\n",
      "lr 2.782222e-05 reg 3.333333e+04 train accuracy: 0.169061 val accuracy: 0.167000\n",
      "lr 2.782222e-05 reg 3.611111e+04 train accuracy: 0.131061 val accuracy: 0.130000\n",
      "lr 2.782222e-05 reg 3.888889e+04 train accuracy: 0.119265 val accuracy: 0.116000\n",
      "lr 2.782222e-05 reg 4.166667e+04 train accuracy: 0.143796 val accuracy: 0.152000\n",
      "lr 2.782222e-05 reg 4.444444e+04 train accuracy: 0.101184 val accuracy: 0.080000\n",
      "lr 2.782222e-05 reg 4.722222e+04 train accuracy: 0.124755 val accuracy: 0.118000\n",
      "lr 2.782222e-05 reg 5.000000e+04 train accuracy: 0.083551 val accuracy: 0.072000\n",
      "lr 3.336667e-05 reg 2.500000e+04 train accuracy: 0.145367 val accuracy: 0.126000\n",
      "lr 3.336667e-05 reg 2.777778e+04 train accuracy: 0.178735 val accuracy: 0.181000\n",
      "lr 3.336667e-05 reg 3.055556e+04 train accuracy: 0.105653 val accuracy: 0.116000\n",
      "lr 3.336667e-05 reg 3.333333e+04 train accuracy: 0.094918 val accuracy: 0.116000\n",
      "lr 3.336667e-05 reg 3.611111e+04 train accuracy: 0.098592 val accuracy: 0.111000\n",
      "lr 3.336667e-05 reg 3.888889e+04 train accuracy: 0.114367 val accuracy: 0.108000\n",
      "lr 3.336667e-05 reg 4.166667e+04 train accuracy: 0.089102 val accuracy: 0.077000\n",
      "lr 3.336667e-05 reg 4.444444e+04 train accuracy: 0.145224 val accuracy: 0.151000\n",
      "lr 3.336667e-05 reg 4.722222e+04 train accuracy: 0.129694 val accuracy: 0.111000\n",
      "lr 3.336667e-05 reg 5.000000e+04 train accuracy: 0.106694 val accuracy: 0.099000\n",
      "lr 3.891111e-05 reg 2.500000e+04 train accuracy: 0.133857 val accuracy: 0.137000\n",
      "lr 3.891111e-05 reg 2.777778e+04 train accuracy: 0.146408 val accuracy: 0.164000\n",
      "lr 3.891111e-05 reg 3.055556e+04 train accuracy: 0.111000 val accuracy: 0.109000\n",
      "lr 3.891111e-05 reg 3.333333e+04 train accuracy: 0.092633 val accuracy: 0.085000\n",
      "lr 3.891111e-05 reg 3.611111e+04 train accuracy: 0.140755 val accuracy: 0.138000\n",
      "lr 3.891111e-05 reg 3.888889e+04 train accuracy: 0.081347 val accuracy: 0.082000\n",
      "lr 3.891111e-05 reg 4.166667e+04 train accuracy: 0.104918 val accuracy: 0.124000\n",
      "lr 3.891111e-05 reg 4.444444e+04 train accuracy: 0.099061 val accuracy: 0.112000\n",
      "lr 3.891111e-05 reg 4.722222e+04 train accuracy: 0.109163 val accuracy: 0.093000\n",
      "lr 3.891111e-05 reg 5.000000e+04 train accuracy: 0.105449 val accuracy: 0.104000\n",
      "lr 4.445556e-05 reg 2.500000e+04 train accuracy: 0.114755 val accuracy: 0.137000\n",
      "lr 4.445556e-05 reg 2.777778e+04 train accuracy: 0.153980 val accuracy: 0.141000\n",
      "lr 4.445556e-05 reg 3.055556e+04 train accuracy: 0.129408 val accuracy: 0.133000\n",
      "lr 4.445556e-05 reg 3.333333e+04 train accuracy: 0.110592 val accuracy: 0.137000\n",
      "lr 4.445556e-05 reg 3.611111e+04 train accuracy: 0.112776 val accuracy: 0.128000\n",
      "lr 4.445556e-05 reg 3.888889e+04 train accuracy: 0.071429 val accuracy: 0.059000\n",
      "lr 4.445556e-05 reg 4.166667e+04 train accuracy: 0.115143 val accuracy: 0.125000\n",
      "lr 4.445556e-05 reg 4.444444e+04 train accuracy: 0.125673 val accuracy: 0.113000\n",
      "lr 4.445556e-05 reg 4.722222e+04 train accuracy: 0.106408 val accuracy: 0.112000\n",
      "lr 4.445556e-05 reg 5.000000e+04 train accuracy: 0.105163 val accuracy: 0.111000\n",
      "lr 5.000000e-05 reg 2.500000e+04 train accuracy: 0.107980 val accuracy: 0.101000\n",
      "lr 5.000000e-05 reg 2.777778e+04 train accuracy: 0.098224 val accuracy: 0.081000\n",
      "lr 5.000000e-05 reg 3.055556e+04 train accuracy: 0.084776 val accuracy: 0.086000\n",
      "lr 5.000000e-05 reg 3.333333e+04 train accuracy: 0.088816 val accuracy: 0.076000\n",
      "lr 5.000000e-05 reg 3.611111e+04 train accuracy: 0.110306 val accuracy: 0.110000\n",
      "lr 5.000000e-05 reg 3.888889e+04 train accuracy: 0.089796 val accuracy: 0.065000\n",
      "lr 5.000000e-05 reg 4.166667e+04 train accuracy: 0.080286 val accuracy: 0.059000\n",
      "lr 5.000000e-05 reg 4.444444e+04 train accuracy: 0.107286 val accuracy: 0.092000\n",
      "lr 5.000000e-05 reg 4.722222e+04 train accuracy: 0.069184 val accuracy: 0.081000\n",
      "lr 5.000000e-05 reg 5.000000e+04 train accuracy: 0.086082 val accuracy: 0.096000\n",
      "best validation accuracy achieved during cross-validation: 0.292000\n"
     ]
    }
   ],
   "source": [
    "# Use the validation set to tune hyperparameters (regularization strength and\n",
    "# learning rate). You should experiment with different ranges for the learning\n",
    "# rates and regularization strengths; if you are careful you should be able to\n",
    "# get a classification accuracy of over 0.35 on the validation set.\n",
    "from cs231n.classifiers import Softmax\n",
    "import itertools\n",
    "\n",
    "results = {}\n",
    "best_val = -1\n",
    "best_softmax = None\n",
    "learning_rates = np.linspace(1e-7, 5e-5, 10)\n",
    "regularization_strengths = np.linspace(2.5e4, 5e4, 10)\n",
    "\n",
    "################################################################################\n",
    "# TODO:                                                                        #\n",
    "# Use the validation set to set the learning rate and regularization strength. #\n",
    "# This should be identical to the validation that you did for the SVM; save    #\n",
    "# the best trained softmax classifer in best_softmax.                          #\n",
    "################################################################################\n",
    "for l, r in itertools.product(learning_rates, regularization_strengths):\n",
    "    softmax = Softmax()\n",
    "    softmax.train(X_train, y_train, learning_rate = l, reg = r)\n",
    "    y_tr_pred = softmax.predict(X_train)\n",
    "    y_val_pred = softmax.predict(X_val)\n",
    "    tr_accuracy = np.mean(y_tr_pred == y_train)\n",
    "    val_accuracy = np.mean(y_val_pred == y_val)\n",
    "    results[(l, r)] = (tr_accuracy, val_accuracy)\n",
    "    \n",
    "    if val_accuracy > best_val:\n",
    "        best_val = val_accuracy\n",
    "        best_softmax = softmax\n",
    "################################################################################\n",
    "#                              END OF YOUR CODE                                #\n",
    "################################################################################\n",
    "    \n",
    "# Print out results.\n",
    "for lr, reg in sorted(results):\n",
    "    train_accuracy, val_accuracy = results[(lr, reg)]\n",
    "    print('lr %e reg %e train accuracy: %f val accuracy: %f' % (\n",
    "                lr, reg, train_accuracy, val_accuracy))\n",
    "    \n",
    "print('best validation accuracy achieved during cross-validation: %f' % best_val)"
   ]
  },
  {
   "cell_type": "code",
   "execution_count": 187,
   "metadata": {},
   "outputs": [
    {
     "name": "stdout",
     "output_type": "stream",
     "text": [
      "softmax on raw pixels final test set accuracy: 0.289000\n"
     ]
    }
   ],
   "source": [
    "# evaluate on test set\n",
    "# Evaluate the best softmax on test set\n",
    "y_test_pred = best_softmax.predict(X_test)\n",
    "test_accuracy = np.mean(y_test == y_test_pred)\n",
    "print('softmax on raw pixels final test set accuracy: %f' % (test_accuracy, ))"
   ]
  },
  {
   "cell_type": "markdown",
   "metadata": {},
   "source": [
    "**Inline Question** - *True or False*\n",
    "\n",
    "It's possible to add a new datapoint to a training set that would leave the SVM loss unchanged, but this is not the case with the Softmax classifier loss.\n",
    "\n",
    "*Your answer*:\n",
    "\n",
    "*Your explanation*:"
   ]
  },
  {
   "cell_type": "code",
   "execution_count": 188,
   "metadata": {},
   "outputs": [
    {
     "data": {
      "image/png": "[encoded data removed]",
      "text/plain": [
       "<Figure size 720x576 with 10 Axes>"
      ]
     },
     "metadata": {
      "needs_background": "light"
     },
     "output_type": "display_data"
    }
   ],
   "source": [
    "# Visualize the learned weights for each class\n",
    "w = best_softmax.W[:-1,:] # strip out the bias\n",
    "w = w.reshape(32, 32, 3, 10)\n",
    "\n",
    "w_min, w_max = np.min(w), np.max(w)\n",
    "\n",
    "classes = ['plane', 'car', 'bird', 'cat', 'deer', 'dog', 'frog', 'horse', 'ship', 'truck']\n",
    "for i in range(10):\n",
    "    plt.subplot(2, 5, i + 1)\n",
    "    \n",
    "    # Rescale the weights to be between 0 and 255\n",
    "    wimg = 255.0 * (w[:, :, :, i].squeeze() - w_min) / (w_max - w_min)\n",
    "    plt.imshow(wimg.astype('uint8'))\n",
    "    plt.axis('off')\n",
    "    plt.title(classes[i])"
   ]
  },
  {
   "cell_type": "code",
   "execution_count": null,
   "metadata": {},
   "outputs": [],
   "source": []
  }
 ],
 "metadata": {
  "kernelspec": {
   "display_name": "Python 3",
   "language": "python",
   "name": "python3"
  },
  "language_info": {
   "codemirror_mode": {
    "name": "ipython",
    "version": 3
   },
   "file_extension": ".py",
   "mimetype": "text/x-python",
   "name": "python",
   "nbconvert_exporter": "python",
   "pygments_lexer": "ipython3",
   "version": "3.7.1"
  }
 },
 "nbformat": 4,
 "nbformat_minor": 1
}
